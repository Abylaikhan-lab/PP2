{
 "cells": [
  {
   "cell_type": "code",
   "execution_count": 3,
   "metadata": {},
   "outputs": [
    {
     "name": "stdout",
     "output_type": "stream",
     "text": [
      "56.6990462\n"
     ]
    }
   ],
   "source": [
    "#task 1\n",
    "g = int(input())\n",
    "\n",
    "def ounc(grams):\n",
    "    return 28.3495231 * grams\n",
    "\n",
    "print(ounc(g))\n"
   ]
  },
  {
   "cell_type": "code",
   "execution_count": 5,
   "metadata": {},
   "outputs": [
    {
     "name": "stdout",
     "output_type": "stream",
     "text": [
      "-15.555555555555557\n"
     ]
    }
   ],
   "source": [
    "#task 2\n",
    "c = int(input())\n",
    "\n",
    "def far(F):\n",
    "    return (5 / 9) * (F - 32)\n",
    "\n",
    "print(far(c))\n"
   ]
  },
  {
   "cell_type": "code",
   "execution_count": 2,
   "metadata": {},
   "outputs": [
    {
     "name": "stdout",
     "output_type": "stream",
     "text": [
      "(23, 12)\n"
     ]
    }
   ],
   "source": [
    "#task 3\n",
    "heads = int(input())\n",
    "legs = int(input())\n",
    "\n",
    "def chirab(heads, legs):\n",
    "    for chi in range(heads + 1):\n",
    "        rab = heads - chi\n",
    "        if 2 * chi + 4 * rab == legs:\n",
    "            return chi, rab\n",
    "    return \"netu\"\n",
    "\n",
    "print(chirab(heads, legs))"
   ]
  },
  {
   "cell_type": "code",
   "execution_count": 5,
   "metadata": {},
   "outputs": [
    {
     "name": "stdout",
     "output_type": "stream",
     "text": [
      "[2, 3, 5, 7]\n"
     ]
    }
   ],
   "source": [
    "#task 4\n",
    "def isprime(n):\n",
    "    if n <= 1:\n",
    "        return False\n",
    "    for i in range(2, n):\n",
    "        if n % i == 0:\n",
    "            return False\n",
    "    return True\n",
    "\n",
    "def filterprime(numbers):\n",
    "    primes = []\n",
    "    for num in numbers:\n",
    "        if isprime(num):\n",
    "            primes.append(num)\n",
    "    return primes\n",
    "\n",
    "numbers = [2, 3, 4, 5, 6, 7, 8, 9, 10]\n",
    "print(filterprime(numbers))"
   ]
  },
  {
   "cell_type": "code",
   "execution_count": 8,
   "metadata": {},
   "outputs": [
    {
     "name": "stdout",
     "output_type": "stream",
     "text": [
      "[('1', '2', '3'), ('1', '3', '2'), ('2', '1', '3'), ('2', '3', '1'), ('3', '1', '2'), ('3', '2', '1')]\n"
     ]
    }
   ],
   "source": [
    "#task 5\n",
    "import itertools\n",
    "s = input()\n",
    "def permutations(s):\n",
    "    return list(itertools.permutations(s))\n",
    "print(permutations(s))"
   ]
  },
  {
   "cell_type": "code",
   "execution_count": 12,
   "metadata": {},
   "outputs": [
    {
     "name": "stdout",
     "output_type": "stream",
     "text": [
      "ready are We\n"
     ]
    }
   ],
   "source": [
    "#task6\n",
    "def rever(s):\n",
    "    words = s.split()\n",
    "    reversed_s = ' '.join(reversed(words))\n",
    "    return reversed_s\n",
    "\n",
    "s = \"We are ready\"\n",
    "print(rever(s))"
   ]
  },
  {
   "cell_type": "code",
   "execution_count": 14,
   "metadata": {},
   "outputs": [
    {
     "name": "stdout",
     "output_type": "stream",
     "text": [
      "True\n",
      "False\n",
      "False\n"
     ]
    }
   ],
   "source": [
    "#task7\n",
    "def has_33(x):\n",
    "    a = None\n",
    "    for i in x:\n",
    "        if a == i == 3:\n",
    "            return True\n",
    "        a = i\n",
    "    return False\n",
    "\n",
    "print(has_33([1, 3, 3]))  \n",
    "print(has_33([1, 3, 1, 3])) \n",
    "print(has_33([3, 1, 3])) "
   ]
  },
  {
   "cell_type": "code",
   "execution_count": 20,
   "metadata": {},
   "outputs": [
    {
     "name": "stdout",
     "output_type": "stream",
     "text": [
      "True\n",
      "True\n",
      "False\n"
     ]
    }
   ],
   "source": [
    "#task 8\n",
    "def spy_game(list):\n",
    "    count=0\n",
    "    for i in list:\n",
    "        if(i==0 and count==0):\n",
    "            count=1\n",
    "        if(i==0 and count==1):\n",
    "            count=2\n",
    "        if(i==7 and count ==2):\n",
    "            count =3\n",
    "        if(count == 3):\n",
    "            return True\n",
    "    return False\n",
    "\n",
    "print(spy_game([1,2,4,0,0,7,5])) \n",
    "print(spy_game([1,0,2,4,0,5,7])) \n",
    "print(spy_game([1,7,2,0,4,5,0])) "
   ]
  },
  {
   "cell_type": "code",
   "execution_count": 34,
   "metadata": {},
   "outputs": [
    {
     "name": "stdout",
     "output_type": "stream",
     "text": [
      "113.03999999999999\n"
     ]
    }
   ],
   "source": [
    "#task 9\n",
    "import math\n",
    "radius = int(input())\n",
    "\n",
    "def volumesphere(r):\n",
    "    return 4/3 * 3.14 * r ** 3\n",
    "\n",
    "print(volumesphere(radius))"
   ]
  },
  {
   "cell_type": "code",
   "execution_count": 31,
   "metadata": {},
   "outputs": [
    {
     "name": "stdout",
     "output_type": "stream",
     "text": [
      "[1, 2, 3, 4, 5]\n"
     ]
    }
   ],
   "source": [
    "#task 10\n",
    "num = [1, 1, 2, 3, 4, 5, 3]\n",
    "\n",
    "def uni(num):\n",
    "    uniq = []\n",
    "\n",
    "    for nums in num:\n",
    "        if nums in uniq:\n",
    "            continue\n",
    "        else:\n",
    "            uniq.append(nums)\n",
    "\n",
    "    return uniq\n",
    "\n",
    "print(uni(num))"
   ]
  },
  {
   "cell_type": "code",
   "execution_count": 27,
   "metadata": {},
   "outputs": [
    {
     "name": "stdout",
     "output_type": "stream",
     "text": [
      "nooo\n"
     ]
    }
   ],
   "source": [
    "#task 11\n",
    "b = str(input())\n",
    "def ispal(a):\n",
    "    if a == a[:: -1]:\n",
    "        return 'yeah'\n",
    "    else:\n",
    "        return 'nooo'\n",
    "    \n",
    "print(ispal(b))"
   ]
  },
  {
   "cell_type": "code",
   "execution_count": 23,
   "metadata": {},
   "outputs": [
    {
     "name": "stdout",
     "output_type": "stream",
     "text": [
      "****\n",
      "*********\n",
      "*******\n"
     ]
    }
   ],
   "source": [
    "#task 12\n",
    "def histogram(list):\n",
    "    for i in list:\n",
    "        print('*' * i)\n",
    "\n",
    "histogram([4, 9, 7])"
   ]
  },
  {
   "cell_type": "code",
   "execution_count": 28,
   "metadata": {},
   "outputs": [
    {
     "name": "stdout",
     "output_type": "stream",
     "text": [
      "Well, Abl, I am thinking of a number between 1 and 20.\n",
      "Your guess is too high.\n",
      "Your guess is too high.\n",
      "Your guess is too low.\n",
      "Your guess is too low.\n",
      "Your guess is too low.\n",
      "Good job, Abl! You guessed my number in 6 guesses!\n"
     ]
    }
   ],
   "source": [
    "#task13\n",
    "import random\n",
    "\n",
    "def guessnum():\n",
    "    name = input(\"Hello! What is your name?\\n\")\n",
    "    print(f\"Well, {name}, I am thinking of a number between 1 and 20.\")\n",
    "    number = random.randint(1, 20)\n",
    "    gues = 0\n",
    "\n",
    "    while True:\n",
    "        guess = int(input(\"Take a guess.\\n\"))\n",
    "        gues += 1\n",
    "        if guess < number:\n",
    "            print(\"Your guess is too low.\")\n",
    "        elif guess > number:\n",
    "            print(\"Your guess is too high.\")\n",
    "        else:\n",
    "            print(f\"Good job, {name}! You guessed my number in {gues} guesses!\")\n",
    "            break\n",
    "\n",
    "\n",
    "guessnum()"
   ]
  }
 ],
 "metadata": {
  "kernelspec": {
   "display_name": "Python 3",
   "language": "python",
   "name": "python3"
  },
  "language_info": {
   "codemirror_mode": {
    "name": "ipython",
    "version": 3
   },
   "file_extension": ".py",
   "mimetype": "text/x-python",
   "name": "python",
   "nbconvert_exporter": "python",
   "pygments_lexer": "ipython3",
   "version": "3.13.1"
  }
 },
 "nbformat": 4,
 "nbformat_minor": 2
}
