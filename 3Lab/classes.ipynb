{
 "cells": [
  {
   "cell_type": "code",
   "execution_count": 10,
   "metadata": {},
   "outputs": [
    {
     "name": "stdout",
     "output_type": "stream",
     "text": [
      "JFDGNJF\n"
     ]
    }
   ],
   "source": [
    "#task 1\n",
    "class ssss:\n",
    "    def fs(self):\n",
    "        self.s = input()\n",
    "\n",
    "    def ps(self):\n",
    "        print(self.s.upper())\n",
    "\n",
    "obj = ssss()\n",
    "obj.fs()\n",
    "obj.ps()"
   ]
  },
  {
   "cell_type": "code",
   "execution_count": 11,
   "metadata": {},
   "outputs": [
    {
     "name": "stdout",
     "output_type": "stream",
     "text": [
      "16\n"
     ]
    }
   ],
   "source": [
    "#task 2\n",
    "class shape:\n",
    "    def area(self):\n",
    "        return 0\n",
    "    \n",
    "class square(shape):\n",
    "    def __init__(self, length):\n",
    "        self.length = length\n",
    "    def area(self):\n",
    "        return self.length ** 2\n",
    "\n",
    "squa = square(4)\n",
    "print(squa.area())"
   ]
  },
  {
   "cell_type": "code",
   "execution_count": 12,
   "metadata": {},
   "outputs": [
    {
     "name": "stdout",
     "output_type": "stream",
     "text": [
      "30\n"
     ]
    }
   ],
   "source": [
    "#task3\n",
    "class rectangle:\n",
    "    def __init__(self, length, width):\n",
    "        self.length = length\n",
    "        self.width = width\n",
    "\n",
    "    def s(self):\n",
    "        return self.length * self.width\n",
    "\n",
    "rec = rectangle(5, 6)\n",
    "print(rec.s())"
   ]
  },
  {
   "cell_type": "code",
   "execution_count": 13,
   "metadata": {},
   "outputs": [
    {
     "name": "stdout",
     "output_type": "stream",
     "text": [
      "2.23606797749979\n",
      "4   8\n",
      "6   9\n",
      "8   10\n"
     ]
    }
   ],
   "source": [
    "#task4\n",
    "import math\n",
    "class point:\n",
    "    def __init__(self, x, y):\n",
    "        self.x = x\n",
    "        self.y = y\n",
    "\n",
    "    def show(self):\n",
    "        print(self.x, \" \", self.y)\n",
    "\n",
    "    def move(self, nov_x, nov_y):\n",
    "        self.x = nov_x\n",
    "        self.y = nov_y\n",
    "\n",
    "    def dist(self, obsh):\n",
    "        return math.sqrt((self.x - obsh.x) ** 2 + (self.y - obsh.y) ** 2)\n",
    "\n",
    "p1 = point(4, 8)\n",
    "p2 = point(6, 9)\n",
    "print(p1.dist(p2))\n",
    "p1.show()\n",
    "p2.show()\n",
    "p1.move(8, 10)\n",
    "p1.show()"
   ]
  },
  {
   "cell_type": "code",
   "execution_count": 14,
   "metadata": {},
   "outputs": [
    {
     "name": "stdout",
     "output_type": "stream",
     "text": [
      "500\n",
      "490\n",
      "290\n"
     ]
    }
   ],
   "source": [
    "#task5\n",
    "class account:\n",
    "    def __init__(self, owner, balance = 0):\n",
    "        self.owner = owner\n",
    "        self.balance = balance\n",
    "\n",
    "    def deposit(self, amount):\n",
    "        self.balance += amount\n",
    "        print(self.balance)\n",
    "\n",
    "    def withdraw(self, amount):\n",
    "        if amount > self.balance:\n",
    "            print(\"Net deneg\")\n",
    "        else:\n",
    "            self.balance -= amount\n",
    "            print(self.balance)\n",
    "\n",
    "akk = account(\"John\", 300)\n",
    "akk.deposit(200)\n",
    "akk.withdraw(10) \n",
    "akk.withdraw(200)    \n"
   ]
  },
  {
   "cell_type": "code",
   "execution_count": 20,
   "metadata": {},
   "outputs": [
    {
     "name": "stdout",
     "output_type": "stream",
     "text": [
      "[2, 3, 5, 7]\n"
     ]
    }
   ],
   "source": [
    "#task6\n",
    "class PrimeNum:\n",
    "    def isprime(self, n):\n",
    "        if n <= 1:\n",
    "            return False\n",
    "        for i in range(2, n):\n",
    "            if n % i == 0:\n",
    "                return False\n",
    "        return True\n",
    "\n",
    "    def ffilter(self, listprime):\n",
    "        return filter(lambda x: self.isprime(x), listprime)\n",
    "\n",
    "nums = [2, 3, 4, 5, 6, 7, 8, 9, 10]\n",
    "\n",
    "pr = PrimeNum()\n",
    "print(list(pr.ffilter(nums)))"
   ]
  }
 ],
 "metadata": {
  "kernelspec": {
   "display_name": "Python 3",
   "language": "python",
   "name": "python3"
  },
  "language_info": {
   "codemirror_mode": {
    "name": "ipython",
    "version": 3
   },
   "file_extension": ".py",
   "mimetype": "text/x-python",
   "name": "python",
   "nbconvert_exporter": "python",
   "pygments_lexer": "ipython3",
   "version": "3.13.1"
  }
 },
 "nbformat": 4,
 "nbformat_minor": 2
}
