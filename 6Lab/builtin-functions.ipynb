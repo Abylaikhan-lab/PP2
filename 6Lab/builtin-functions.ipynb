{
 "cells": [
  {
   "cell_type": "code",
   "execution_count": 8,
   "metadata": {},
   "outputs": [
    {
     "name": "stdout",
     "output_type": "stream",
     "text": [
      "720\n"
     ]
    }
   ],
   "source": [
    "#task1\n",
    "import math\n",
    "\n",
    "l = list(map(int, input().split()))\n",
    "print(math.prod(l)) "
   ]
  },
  {
   "cell_type": "code",
   "execution_count": 10,
   "metadata": {},
   "outputs": [
    {
     "name": "stdout",
     "output_type": "stream",
     "text": [
      "8 2\n"
     ]
    }
   ],
   "source": [
    "#task2\n",
    "string = input()\n",
    "\n",
    "lowercas = sum([1 for i in string if i.islower()])\n",
    "uppercas = sum([1 for k in string if k.isupper()])\n",
    "\n",
    "print(lowercas, uppercas)"
   ]
  },
  {
   "cell_type": "code",
   "execution_count": null,
   "metadata": {},
   "outputs": [
    {
     "name": "stdout",
     "output_type": "stream",
     "text": [
      "Palindrome\n"
     ]
    }
   ],
   "source": [
    "#task3\n",
    "import itertools\n",
    "\n",
    "s = input()\n",
    "reverse_s = ''.join(reversed(s))\n",
    "\n",
    "if s == reverse_s:\n",
    "    print(\"Palindrome\")\n",
    "\n",
    "else:\n",
    "    print(\"Not Palindrome\")"
   ]
  },
  {
   "cell_type": "code",
   "execution_count": null,
   "metadata": {},
   "outputs": [
    {
     "name": "stdout",
     "output_type": "stream",
     "text": [
      "Square root of 0 after 1 miliseconds is 158.42979517754858\n"
     ]
    }
   ],
   "source": [
    "#task4\n",
    "from time import sleep\n",
    "from math import sqrt\n",
    "\n",
    "number = int(input())\n",
    "time = int(input())\n",
    "\n",
    "sleep(time/1000)\n",
    "print(f'Square root of {number} after {time} miliseconds is {sqrt(number)}'.format(number,time))"
   ]
  },
  {
   "cell_type": "code",
   "execution_count": 1,
   "metadata": {},
   "outputs": [
    {
     "name": "stdout",
     "output_type": "stream",
     "text": [
      "False\n"
     ]
    }
   ],
   "source": [
    "#task5\n",
    "tpl = (True, True, False, True)\n",
    "\n",
    "result = all(tpl)\n",
    "\n",
    "print(result)\n"
   ]
  }
 ],
 "metadata": {
  "kernelspec": {
   "display_name": "Python 3",
   "language": "python",
   "name": "python3"
  },
  "language_info": {
   "codemirror_mode": {
    "name": "ipython",
    "version": 3
   },
   "file_extension": ".py",
   "mimetype": "text/x-python",
   "name": "python",
   "nbconvert_exporter": "python",
   "pygments_lexer": "ipython3",
   "version": "3.13.1"
  }
 },
 "nbformat": 4,
 "nbformat_minor": 2
}
