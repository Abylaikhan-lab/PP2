{
 "cells": [
  {
   "cell_type": "code",
   "execution_count": 23,
   "metadata": {},
   "outputs": [
    {
     "name": "stdout",
     "output_type": "stream",
     "text": [
      "Directories: []\n",
      "Files: ['A.txt', 'B.txt', 'C.txt', 'D.txt', 'dir-and-files.ipynb', 'E.txt', 'F.txt', 'G.txt', 'H.txt', 'I.txt', 'J.txt', 'K.txt', 'L.txt', 'M.txt', 'N.txt', 'O.txt', 'P.txt', 'Q.txt', 'R.txt', 'S.txt', 'T.txt', 'test.txt', 'test2.txt', 'U.txt', 'V.txt', 'W.txt', 'X.txt', 'Y.txt', 'Z.txt']\n",
      "All items: ['A.txt', 'B.txt', 'C.txt', 'D.txt', 'dir-and-files.ipynb', 'E.txt', 'F.txt', 'G.txt', 'H.txt', 'I.txt', 'J.txt', 'K.txt', 'L.txt', 'M.txt', 'N.txt', 'O.txt', 'P.txt', 'Q.txt', 'R.txt', 'S.txt', 'T.txt', 'test.txt', 'test2.txt', 'U.txt', 'V.txt', 'W.txt', 'X.txt', 'Y.txt', 'Z.txt']\n"
     ]
    }
   ],
   "source": [
    "#task1\n",
    "import os\n",
    "\n",
    "path = \"C:/PP2/6Lab\"\n",
    "directories = [d for d in os.listdir(path) if os.path.isdir(os.path.join(path, d))]\n",
    "files = [f for f in os.listdir(path) if os.path.isfile(os.path.join(path, f))]\n",
    "items = os.listdir(path)\n",
    "\n",
    "print(\"Directories:\", directories)\n",
    "print(\"Files:\", files)\n",
    "print(\"All items:\", items)"
   ]
  },
  {
   "cell_type": "code",
   "execution_count": 24,
   "metadata": {},
   "outputs": [
    {
     "name": "stdout",
     "output_type": "stream",
     "text": [
      "True\n",
      "True\n",
      "True\n",
      "True\n"
     ]
    }
   ],
   "source": [
    "#task2\n",
    "import os\n",
    "\n",
    "path = \"C:/PP2/6Lab\"\n",
    "\n",
    "exists = os.path.exists(path)\n",
    "readable = os.access(path, os.R_OK)\n",
    "writable = os.access(path, os.W_OK)\n",
    "executable = os.access(path, os.X_OK)\n",
    "\n",
    "print(exists)\n",
    "print(readable)\n",
    "print(writable)\n",
    "print(executable)\n"
   ]
  },
  {
   "cell_type": "code",
   "execution_count": 25,
   "metadata": {},
   "outputs": [
    {
     "name": "stdout",
     "output_type": "stream",
     "text": [
      "True\n",
      "C:/PP2\n",
      "6Lab\n"
     ]
    }
   ],
   "source": [
    "#task3\n",
    "import os\n",
    "\n",
    "path = \"C:/PP2/6Lab\"\n",
    "\n",
    "exists = os.path.exists(path)\n",
    "directory = os.path.dirname(path)\n",
    "filename = os.path.basename(path)\n",
    "\n",
    "print(exists)\n",
    "print(directory)\n",
    "print(filename)\n"
   ]
  },
  {
   "cell_type": "code",
   "execution_count": null,
   "metadata": {},
   "outputs": [
    {
     "name": "stdout",
     "output_type": "stream",
     "text": [
      "3\n"
     ]
    }
   ],
   "source": [
    "#task4\n",
    "filename = \"test.txt\"\n",
    "\n",
    "with open(filename, 'r') as f:\n",
    "    count = sum(1 for _ in f)\n",
    "\n",
    "print(count)\n",
    "\n"
   ]
  },
  {
   "cell_type": "code",
   "execution_count": 21,
   "metadata": {},
   "outputs": [],
   "source": [
    "#task5\n",
    "filename = \"test.txt\"\n",
    "data = [\"Line 1\", \"Line 2\", \"Line 3\"]\n",
    "\n",
    "with open(filename, 'w') as f:\n",
    "    f.writelines(\"\\n\".join(data))\n"
   ]
  },
  {
   "cell_type": "code",
   "execution_count": 27,
   "metadata": {},
   "outputs": [],
   "source": [
    "#task6\n",
    "import string\n",
    "\n",
    "for letter in string.ascii_uppercase:\n",
    "    with open(f\"{letter}.txt\", 'w') as f:\n",
    "        f.write(letter)\n"
   ]
  },
  {
   "cell_type": "code",
   "execution_count": 17,
   "metadata": {},
   "outputs": [
    {
     "data": {
      "text/plain": [
       "'test2.txt'"
      ]
     },
     "execution_count": 17,
     "metadata": {},
     "output_type": "execute_result"
    }
   ],
   "source": [
    "#task7\n",
    "import shutil\n",
    "\n",
    "src = \"test.txt\"\n",
    "dst = \"test2.txt\"\n",
    "\n",
    "shutil.copy(src, dst)"
   ]
  },
  {
   "cell_type": "code",
   "execution_count": 19,
   "metadata": {},
   "outputs": [
    {
     "name": "stdout",
     "output_type": "stream",
     "text": [
      "deleted\n"
     ]
    }
   ],
   "source": [
    "#task8\n",
    "import os\n",
    "\n",
    "path = \"delete.txt\"\n",
    "\n",
    "if os.path.exists(path) and os.access(path, os.W_OK):\n",
    "    os.remove(path)\n",
    "    print(\"deleted\")\n",
    "else:\n",
    "    print(\"does not delete\")\n",
    "\n"
   ]
  }
 ],
 "metadata": {
  "kernelspec": {
   "display_name": "Python 3",
   "language": "python",
   "name": "python3"
  },
  "language_info": {
   "codemirror_mode": {
    "name": "ipython",
    "version": 3
   },
   "file_extension": ".py",
   "mimetype": "text/x-python",
   "name": "python",
   "nbconvert_exporter": "python",
   "pygments_lexer": "ipython3",
   "version": "3.13.1"
  }
 },
 "nbformat": 4,
 "nbformat_minor": 2
}
