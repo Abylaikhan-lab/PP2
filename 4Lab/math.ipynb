{
 "cells": [
  {
   "cell_type": "code",
   "execution_count": 1,
   "metadata": {},
   "outputs": [
    {
     "name": "stdout",
     "output_type": "stream",
     "text": [
      "radian: 1.570796\n"
     ]
    }
   ],
   "source": [
    "#task1\n",
    "import math\n",
    "\n",
    "def degrees_to_radians(degrees):\n",
    "    return degrees * (math.pi / 180)\n",
    "\n",
    "degree = float(input())\n",
    "radian = degrees_to_radians(degree)\n",
    "print(f\"radian: {radian:.6f}\")\n"
   ]
  },
  {
   "cell_type": "code",
   "execution_count": 3,
   "metadata": {},
   "outputs": [
    {
     "name": "stdout",
     "output_type": "stream",
     "text": [
      "Expected 7.0\n"
     ]
    }
   ],
   "source": [
    "#task2\n",
    "def trapezoid_area(base1, base2, height):\n",
    "    return 0.5 * (base1 + base2) * height\n",
    "\n",
    "height = float(input(\"Height: \"))\n",
    "base1 = float(input(\"Base, first value: \"))\n",
    "base2 = float(input(\"Base, second value: \"))\n",
    "\n",
    "area = trapezoid_area(base1, base2, height)\n",
    "print(f\"Expected {area:.1f}\")\n"
   ]
  },
  {
   "cell_type": "code",
   "execution_count": 4,
   "metadata": {},
   "outputs": [
    {
     "name": "stdout",
     "output_type": "stream",
     "text": [
      "area 6.9\n"
     ]
    }
   ],
   "source": [
    "#task3\n",
    "import math\n",
    "\n",
    "def polygon_area(n_sides, side_length):\n",
    "    return (n_sides * (side_length ** 2)) / (4 * math.tan(math.pi / n_sides))\n",
    "\n",
    "n_sides = int(input(\"number\"))\n",
    "side_length = float(input(\"length\"))\n",
    "\n",
    "area = polygon_area(n_sides, side_length)\n",
    "print(f\"area {area:.1f}\")\n"
   ]
  },
  {
   "cell_type": "code",
   "execution_count": 6,
   "metadata": {},
   "outputs": [
    {
     "name": "stdout",
     "output_type": "stream",
     "text": [
      "Expected 30.0\n"
     ]
    }
   ],
   "source": [
    "#task4\n",
    "def parallelogram_area(base, height):\n",
    "    return base * height\n",
    "\n",
    "base = float(input(\"Length\"))\n",
    "height = float(input(\"Height\"))\n",
    "\n",
    "area = parallelogram_area(base, height)\n",
    "print(f\"Expected {area:.1f}\")\n"
   ]
  }
 ],
 "metadata": {
  "kernelspec": {
   "display_name": "Python 3",
   "language": "python",
   "name": "python3"
  },
  "language_info": {
   "codemirror_mode": {
    "name": "ipython",
    "version": 3
   },
   "file_extension": ".py",
   "mimetype": "text/x-python",
   "name": "python",
   "nbconvert_exporter": "python",
   "pygments_lexer": "ipython3",
   "version": "3.13.1"
  }
 },
 "nbformat": 4,
 "nbformat_minor": 2
}
