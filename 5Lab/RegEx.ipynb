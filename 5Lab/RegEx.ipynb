{
 "cells": [
  {
   "cell_type": "code",
   "execution_count": 11,
   "metadata": {},
   "outputs": [
    {
     "name": "stdout",
     "output_type": "stream",
     "text": [
      "a\n",
      "ab\n",
      "abb\n"
     ]
    }
   ],
   "source": [
    "#task1\n",
    "import re\n",
    "\n",
    "pattern = r'ab*'\n",
    "test_strings = [\"a\", \"ab\", \"abb\", \"ac\", \"b\"]\n",
    "for string in test_strings:\n",
    "    if re.fullmatch(pattern, string):\n",
    "        print(string)\n"
   ]
  },
  {
   "cell_type": "code",
   "execution_count": 12,
   "metadata": {},
   "outputs": [
    {
     "name": "stdout",
     "output_type": "stream",
     "text": [
      "abb\n",
      "abbb\n"
     ]
    }
   ],
   "source": [
    "#task2\n",
    "import re\n",
    "\n",
    "pattern = r'ab{2,3}'\n",
    "test_strings = [\"abb\", \"abbb\", \"abbbb\", \"a\", \"ac\"]\n",
    "for string in test_strings:\n",
    "    if re.fullmatch(pattern, string):\n",
    "        print(string)\n"
   ]
  },
  {
   "cell_type": "code",
   "execution_count": 13,
   "metadata": {},
   "outputs": [
    {
     "name": "stdout",
     "output_type": "stream",
     "text": [
      "tes_t\n",
      "al_o\n"
     ]
    }
   ],
   "source": [
    "#task3\n",
    "import re\n",
    "pattern = r'\\b[a-z]+_[a-z]+\\b'\n",
    "test_strings = [\"tes_t\", \"al_o\", \"Hello\", \"Abylai_khan\", \"PYTH_ON\", \"javaScript\"]\n",
    "for string in test_strings:\n",
    "    if re.search(pattern, string):\n",
    "        print(string)\n"
   ]
  },
  {
   "cell_type": "code",
   "execution_count": 14,
   "metadata": {},
   "outputs": [
    {
     "name": "stdout",
     "output_type": "stream",
     "text": [
      "Hello\n",
      "Abylaikhan\n",
      "javaScript\n"
     ]
    }
   ],
   "source": [
    "#task4\n",
    "import re\n",
    "pattern = r'[A-Z][a-z]+'\n",
    "test_strings = [\"Hello\", \"Abylaikhan\", \"PYTHON\", \"javaScript\"]\n",
    "for string in test_strings:\n",
    "    if re.search(pattern, string):\n",
    "        print(string)\n"
   ]
  },
  {
   "cell_type": "code",
   "execution_count": 15,
   "metadata": {},
   "outputs": [
    {
     "name": "stdout",
     "output_type": "stream",
     "text": [
      "axb\n",
      "ab\n",
      "a123b\n"
     ]
    }
   ],
   "source": [
    "#task5\n",
    "import re\n",
    "pattern = r'a.*b$'\n",
    "test_strings = [\"axb\", \"ab\", \"a123b\", \"ac\", \"abc\"]\n",
    "for string in test_strings:\n",
    "    if re.fullmatch(pattern, string):\n",
    "        print(string)\n"
   ]
  },
  {
   "cell_type": "code",
   "execution_count": 16,
   "metadata": {},
   "outputs": [
    {
     "name": "stdout",
     "output_type": "stream",
     "text": [
      "дубликат:Филиал:ТОО:EUROPHARMA:Астана\n"
     ]
    }
   ],
   "source": [
    "#task6\n",
    "import re\n",
    "pattern = r'[ ,.]'\n",
    "text = \"дубликат Филиал ТОО EUROPHARMA Астана\"\n",
    "result = re.sub(pattern, \":\", text)\n",
    "print(result)\n"
   ]
  },
  {
   "cell_type": "code",
   "execution_count": 17,
   "metadata": {},
   "outputs": [
    {
     "name": "stdout",
     "output_type": "stream",
     "text": [
      "helloWorld\n"
     ]
    }
   ],
   "source": [
    "#task7\n",
    "import re\n",
    "def snake_to_camel(snake_str):\n",
    "    words = snake_str.split('_')\n",
    "    return words[0] + ''.join(word.capitalize() for word in words[1:])\n",
    "\n",
    "print(snake_to_camel(\"hello_world\"))\n"
   ]
  },
  {
   "cell_type": "code",
   "execution_count": 18,
   "metadata": {},
   "outputs": [
    {
     "name": "stdout",
     "output_type": "stream",
     "text": [
      "['Hello', 'Abylai', 'Khan']\n"
     ]
    }
   ],
   "source": [
    "#task8\n",
    "import re\n",
    "pattern = r'[A-Z][a-z]*'\n",
    "text = \"HelloAbylaiKhan\"\n",
    "matches = re.findall(pattern, text)\n",
    "print(matches)\n"
   ]
  },
  {
   "cell_type": "code",
   "execution_count": 19,
   "metadata": {},
   "outputs": [
    {
     "name": "stdout",
     "output_type": "stream",
     "text": [
      "Hello Abylai Khan\n"
     ]
    }
   ],
   "source": [
    "#task9\n",
    "import re\n",
    "pattern = r'([A-Z][a-z]*)'\n",
    "text = \"HelloAbylaiKhan\"\n",
    "result = ' '.join(re.findall(pattern, text))\n",
    "print(result)\n"
   ]
  },
  {
   "cell_type": "code",
   "execution_count": 20,
   "metadata": {},
   "outputs": [
    {
     "name": "stdout",
     "output_type": "stream",
     "text": [
      "hello_abylai_khan\n"
     ]
    }
   ],
   "source": [
    "#task10\n",
    "import re \n",
    "pattern = r'([a-z])([A-Z])'\n",
    "text = \"HelloAbylaiKhan\"\n",
    "result = re.sub(pattern, r'\\1_\\2', text).lower()\n",
    "print(result)\n"
   ]
  }
 ],
 "metadata": {
  "kernelspec": {
   "display_name": "Python 3",
   "language": "python",
   "name": "python3"
  },
  "language_info": {
   "codemirror_mode": {
    "name": "ipython",
    "version": 3
   },
   "file_extension": ".py",
   "mimetype": "text/x-python",
   "name": "python",
   "nbconvert_exporter": "python",
   "pygments_lexer": "ipython3",
   "version": "3.13.1"
  }
 },
 "nbformat": 4,
 "nbformat_minor": 2
}
